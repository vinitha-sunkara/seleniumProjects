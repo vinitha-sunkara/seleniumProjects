{
 "cells": [
  {
   "cell_type": "markdown",
   "metadata": {},
   "source": [
    "# wiki\n"
   ]
  },
  {
   "cell_type": "code",
   "execution_count": 16,
   "metadata": {},
   "outputs": [],
   "source": [
    "from requests import get\n",
    "from bs4 import BeautifulSoup\n",
    "from selenium import webdriver\n",
    "from selenium.webdriver.common.by import By\n",
    "from selenium.webdriver.support.ui import WebDriverWait\n",
    "from selenium.webdriver.support import expected_conditions as EC\n",
    "from selenium.webdriver.common.keys import Keys\n",
    "\n",
    "PATH = \"C:\\Program Files (x86)\\chromedriver.exe\"\n",
    "driver = webdriver.Chrome(PATH)"
   ]
  },
  {
   "cell_type": "code",
   "execution_count": 17,
   "metadata": {},
   "outputs": [],
   "source": [
    "\n",
    "#single word input\n",
    "url = \"https://www.wikipedia.org/\"\n",
    "driver.get(url)\n",
    "def word():\n",
    "    term = input(\"what to search : \")\n",
    "    url = \"https://en.wikipedia.org/wiki/\"+term\n",
    "    page = get(url).text\n",
    "    soup = BeautifulSoup(page, \"lxml\")\n",
    "    p = soup.findAll(\"p\")\n",
    "    print(len(\"p\"))\n",
    "    return print(p[2].text)\n",
    "def wordbrief():\n",
    "    driver.implicitly_wait(10)\n",
    "    element = driver.find_element_by_xpath(\"//*[@id='searchInput']\")\n",
    "    term = input(\"what to search:  \")\n",
    "    element =element.send_keys(term, Keys.ENTER)\n",
    "    element = driver.find_element_by_xpath('//*[@id=\"mw-content-text\"]/div[1]/p[3]')\n",
    "    print(element.text)\n",
    "    driver.quit()"
   ]
  },
  {
   "cell_type": "code",
   "execution_count": 18,
   "metadata": {},
   "outputs": [
    {
     "name": "stdout",
     "output_type": "stream",
     "text": [
      "what to search:  agra\n",
      "Sikandar Lodi was the first ruler of the Delhi Sultanate to move his capital from Delhi to Agra in 1504, and so he is regarded as being the founder of Agra. Sikandar Lodi's son, Ibrahim Lodi, was defeated at the Battle of Panipat in 1526 by Babur, which marked the beginning of Mughal Empire.[10]In a brief interruption in Mughal rule between 1540 and 1556, Sher Shah Suri, established the short lived Sur Empire. Agra was the capital of the Mughal Empire from 1556 to 1648, under the Mughal Emperors Akbar, Jahangir and Shah Jahan, after which Shah Jahan shifted the capital to Delhi. The Mughal Empire saw the building of many monuments, especially Taj Mahal. The city was later taken by the Jats and then Marathas and later still fell to the British Raj.\n"
     ]
    }
   ],
   "source": [
    "wordbrief()"
   ]
  },
  {
   "cell_type": "code",
   "execution_count": 8,
   "metadata": {},
   "outputs": [],
   "source": [
    "# first link text\n",
    "#question format\n",
    "\n",
    "def short():\n",
    "    driver.implicitly_wait(10)\n",
    "    element = driver.find_element_by_xpath(\"//*[@id='searchInput']\")\n",
    "    term = input(\"what to search:  \")\n",
    "    element =element.send_keys(term, Keys.ENTER)\n",
    "    element = driver.find_element_by_xpath('//*[@id=\"mw-content-text\"]/div[3]/ul/li[1]/div[2]')\n",
    "    print(element.text)\n",
    "    driver.quit()      \n",
    "def brief():\n",
    "    driver.implicitly_wait(10)\n",
    "    element = driver.find_element_by_xpath(\"//*[@id='searchInput']\")\n",
    "    term = input(\"what to search:  \")\n",
    "    element =element.send_keys(term, Keys.ENTER)\n",
    "    element = driver.find_element_by_xpath('//*[@id=\"mw-content-text\"]/div[3]/ul/li[1]/div[1]/a').click()\n",
    "    element = driver.find_element_by_xpath('//*[@id=\"mw-content-text\"]/div[1]/p[3]')\n",
    "    print(element.text)\n",
    "    driver.implicitly_wait(10)\n",
    "    driver.back()\n",
    "    driver.back()\n",
    "    short()\n",
    "    \n",
    "    driver.quit()   \n"
   ]
  },
  {
   "cell_type": "code",
   "execution_count": 9,
   "metadata": {},
   "outputs": [
    {
     "name": "stdout",
     "output_type": "stream",
     "text": [
      "what to search:  when did world war 2 started\n",
      "World War II (WWII or WW2), also known as the Second World War, was a global war that lasted from 1939 to 1945. It involved the vast majority of the world's countries—including all the great powers—forming two opposing military alliances: the Allies and the Axis. In a state of total war, directly involving more than 100 million personnel from more than 30 countries, the major participants threw their entire economic, industrial, and scientific capabilities behind the war effort, blurring the distinction between civilian and military resources. World War II was the deadliest conflict in human history, resulting in 70 to 85 million fatalities, with more civilians than military personnel killed. Tens of millions of people died due to genocides (including the Holocaust), premeditated death from starvation, massacres, and disease. Aircraft played a major role in the conflict, including in strategic bombing of population centres, and the only uses of nuclear weapons in war.\n",
      "what to search:  when did shivaji ruled\n",
      "Shivaji Bhonsale I (Marathi pronunciation: [ʃiʋaˑɟiˑ bʱoˑs(ə)leˑ]; c. 1627/1630 – April 3, 1680) was an Indian warrior-king and a member of the Bhonsle\n"
     ]
    }
   ],
   "source": [
    "brief()\n",
    " \n"
   ]
  },
  {
   "cell_type": "code",
   "execution_count": null,
   "metadata": {},
   "outputs": [],
   "source": [
    "def d():    \n",
    "    driver.implicitly_wait(10)\n",
    "    element = driver.find_element_by_xpath(\"//*[@id='searchInput']\")\n",
    "    term = input(\"what to search:  \")\n",
    "    element =element.send_keys(term, Keys.ENTER)\n",
    "    element = driver.find_element_by_xpath('//*[@id=\"mw-content-text\"]/div[3]/ul/li[1]/div[1]/a').click()\n",
    "    element = driver.find_element_by_xpath('//*[@id=\"mw-content-text\"]/div[1]/p[1]')\n",
    "    print(element.text)\n",
    "    driver.quit() "
   ]
  },
  {
   "cell_type": "markdown",
   "metadata": {},
   "source": [
    "# google"
   ]
  },
  {
   "cell_type": "code",
   "execution_count": 1,
   "metadata": {},
   "outputs": [],
   "source": [
    "from requests import get\n",
    "from bs4 import BeautifulSoup\n",
    "from selenium import webdriver\n",
    "from selenium.webdriver.common.by import By\n",
    "from selenium.webdriver.support.ui import WebDriverWait\n",
    "from selenium.webdriver.support import expected_conditions as EC\n",
    "from selenium.webdriver.common.keys import Keys\n",
    "\n",
    "PATH = \"C:\\Program Files (x86)\\chromedriver.exe\"\n",
    "driver = webdriver.Chrome(PATH)"
   ]
  },
  {
   "cell_type": "code",
   "execution_count": null,
   "metadata": {},
   "outputs": [],
   "source": [
    "driver.get(\"http://www.google.com\")\n",
    "\n",
    "# Enter \"webdriver\" text and perform \"ENTER\" keyboard action\n",
    "term = input(\"what to search:  \")\n",
    "driver.find_element(By.NAME, \"q\").send_keys( term, Keys.ENTER)w\n",
    "driver.find_element(By.ID,\"gsr\").send_keys(Keys.ENTER) \n",
    "element = driver.find_element_by_xpath('/html/body/div[7]/div[2]/div[10]/div[1]/div[2]/div/div[2]/div[2]/div/div/div[1]/div/div[1]')\n",
    "print(element.text[:24])\n",
    "\n"
   ]
  },
  {
   "cell_type": "code",
   "execution_count": null,
   "metadata": {},
   "outputs": [],
   "source": []
  },
  {
   "cell_type": "code",
   "execution_count": null,
   "metadata": {},
   "outputs": [],
   "source": []
  }
 ],
 "metadata": {
  "kernelspec": {
   "display_name": "Python 3",
   "language": "python",
   "name": "python3"
  },
  "language_info": {
   "codemirror_mode": {
    "name": "ipython",
    "version": 3
   },
   "file_extension": ".py",
   "mimetype": "text/x-python",
   "name": "python",
   "nbconvert_exporter": "python",
   "pygments_lexer": "ipython3",
   "version": "3.8.3"
  }
 },
 "nbformat": 4,
 "nbformat_minor": 4
}
