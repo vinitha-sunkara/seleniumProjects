{
 "cells": [
  {
   "cell_type": "markdown",
   "metadata": {},
   "source": [
    "# wiki\n"
   ]
  },
  {
   "cell_type": "code",
   "execution_count": null,
   "metadata": {},
   "outputs": [],
   "source": [
    "from requests import get\n",
    "from bs4 import BeautifulSoup\n",
    "from selenium import webdriver\n",
    "from selenium.webdriver.common.by import By\n",
    "from selenium.webdriver.support.ui import WebDriverWait\n",
    "from selenium.webdriver.support import expected_conditions as EC\n",
    "from selenium.webdriver.common.keys import Keys\n",
    "\n",
    "PATH = \"C:\\Program Files (x86)\\chromedriver.exe\"\n",
    "driver = webdriver.Chrome(PATH)"
   ]
  },
  {
   "cell_type": "code",
   "execution_count": null,
   "metadata": {},
   "outputs": [],
   "source": [
    "wordbrief()"
   ]
  },
  {
   "cell_type": "code",
   "execution_count": null,
   "metadata": {},
   "outputs": [],
   "source": [
    "\n",
    "#single word input\n",
    "url = \"https://www.wikipedia.org/\"\n",
    "driver.get(url)\n",
    "def word():\n",
    "    term = input(\"what to search : \")\n",
    "    url = \"https://en.wikipedia.org/wiki/\"+term\n",
    "    page = get(url).text\n",
    "    soup = BeautifulSoup(page, \"lxml\")\n",
    "    p = soup.findAll(\"p\")\n",
    "    print(len(\"p\"))\n",
    "    return print(p[2].text)\n",
    "def wordbrief():\n",
    "    driver.implicitly_wait(10)\n",
    "    element = driver.find_element_by_xpath(\"//*[@id='searchInput']\")\n",
    "    term = input(\"what to search:  \")\n",
    "    element =element.send_keys(term, Keys.ENTER)\n",
    "    element = driver.find_element_by_xpath('//*[@id=\"mw-content-text\"]/div[1]/p[3]')\n",
    "    print(element.text)\n",
    "    driver.quit()"
   ]
  },
  {
   "cell_type": "code",
   "execution_count": 7,
   "metadata": {},
   "outputs": [],
   "source": [
    "# first link text\n",
    "#question format\n",
    "\n",
    "def short():\n",
    "    driver.implicitly_wait(10)\n",
    "    element = driver.find_element_by_xpath(\"//*[@id='searchInput']\")\n",
    "    term = input(\"what to search:  \")\n",
    "    element =element.send_keys(term, Keys.ENTER)\n",
    "    element = driver.find_element_by_xpath('//*[@id=\"mw-content-text\"]/div[3]/ul/li[1]/div[2]')\n",
    "    print(element.text)\n",
    "    driver.quit()      \n",
    "def brief():\n",
    "    driver.implicitly_wait(10)\n",
    "    element = driver.find_element_by_xpath(\"//*[@id='searchInput']\")\n",
    "    term = input(\"what to search:  \")\n",
    "    element =element.send_keys(term, Keys.ENTER)\n",
    "    element = driver.find_element_by_xpath('//*[@id=\"mw-content-text\"]/div[3]/ul/li[1]/div[1]/a').click()\n",
    "    element = driver.find_element_by_xpath('//*[@id=\"mw-content-text\"]/div[1]/p[3]')\n",
    "    print(element.text)\n",
    "    driver.implicitly_wait(10)\n",
    "    driver.back()\n",
    "    driver.back()\n",
    "    short()\n",
    "    \n",
    "    driver.quit()   \n"
   ]
  },
  {
   "cell_type": "code",
   "execution_count": null,
   "metadata": {},
   "outputs": [],
   "source": [
    "brief()\n"
   ]
  },
  {
   "cell_type": "code",
   "execution_count": 3,
   "metadata": {},
   "outputs": [],
   "source": [
    "def d():    \n",
    "    driver.implicitly_wait(10)\n",
    "    element = driver.find_element_by_xpath(\"//*[@id='searchInput']\")\n",
    "    term = input(\"what to search:  \")\n",
    "    element =element.send_keys(term, Keys.ENTER)\n",
    "    element = driver.find_element_by_xpath('//*[@id=\"mw-content-text\"]/div[3]/ul/li[1]/div[1]/a').click()\n",
    "    element = driver.find_element_by_xpath('//*[@id=\"mw-content-text\"]/div[1]/p[1]')\n",
    "    print(element.text)\n",
    "    driver.quit() "
   ]
  },
  {
   "cell_type": "markdown",
   "metadata": {},
   "source": [
    "# google"
   ]
  },
  {
   "cell_type": "code",
   "execution_count": 1,
   "metadata": {},
   "outputs": [],
   "source": [
    "from requests import get\n",
    "from bs4 import BeautifulSoup\n",
    "from selenium import webdriver\n",
    "from selenium.webdriver.common.by import By\n",
    "from selenium.webdriver.support.ui import WebDriverWait\n",
    "from selenium.webdriver.support import expected_conditions as EC\n",
    "from selenium.webdriver.common.keys import Keys\n",
    "\n",
    "PATH = \"C:\\Program Files (x86)\\chromedriver.exe\"\n",
    "driver = webdriver.Chrome(PATH)"
   ]
  },
  {
   "cell_type": "code",
   "execution_count": null,
   "metadata": {},
   "outputs": [],
   "source": [
    "driver.get(\"http://www.google.com\")\n",
    "\n",
    "# Enter \"webdriver\" text and perform \"ENTER\" keyboard action\n",
    "term = input(\"what to search:  \")\n",
    "driver.find_element(By.NAME, \"q\").send_keys( term, Keys.ENTER)w\n",
    "driver.find_element(By.ID,\"gsr\").send_keys(Keys.ENTER) \n",
    "element = driver.find_element_by_xpath('/html/body/div[7]/div[2]/div[10]/div[1]/div[2]/div/div[2]/div[2]/div/div/div[1]/div/div[1]')\n",
    "print(element.text[:24])\n",
    "\n"
   ]
  },
  {
   "cell_type": "code",
   "execution_count": null,
   "metadata": {},
   "outputs": [],
   "source": []
  },
  {
   "cell_type": "code",
   "execution_count": null,
   "metadata": {},
   "outputs": [],
   "source": []
  }
 ],
 "metadata": {
  "kernelspec": {
   "display_name": "Python 3",
   "language": "python",
   "name": "python3"
  },
  "language_info": {
   "codemirror_mode": {
    "name": "ipython",
    "version": 3
   },
   "file_extension": ".py",
   "mimetype": "text/x-python",
   "name": "python",
   "nbconvert_exporter": "python",
   "pygments_lexer": "ipython3",
   "version": "3.8.8"
  }
 },
 "nbformat": 4,
 "nbformat_minor": 4
}
